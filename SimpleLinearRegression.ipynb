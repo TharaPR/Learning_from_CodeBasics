{
  "nbformat": 4,
  "nbformat_minor": 0,
  "metadata": {
    "colab": {
      "name": "SimpleLinearRegression.ipynb",
      "provenance": [],
      "collapsed_sections": [],
      "authorship_tag": "ABX9TyNGLDPgRchG5mMN+WzeBi2X",
      "include_colab_link": true
    },
    "kernelspec": {
      "name": "python3",
      "display_name": "Python 3"
    },
    "language_info": {
      "name": "python"
    }
  },
  "cells": [
    {
      "cell_type": "markdown",
      "metadata": {
        "id": "view-in-github",
        "colab_type": "text"
      },
      "source": [
        "<a href=\"https://colab.research.google.com/github/TharaPR/Learnings_from_CodeBasics/blob/main/SimpleLinearRegression.ipynb\" target=\"_parent\"><img src=\"https://colab.research.google.com/assets/colab-badge.svg\" alt=\"Open In Colab\"/></a>"
      ]
    },
    {
      "cell_type": "code",
      "metadata": {
        "id": "t7p6nqxBaL0a"
      },
      "source": [
        "import pandas as pd\n",
        "import numpy as np\n",
        "import matplotlib.pyplot as plt\n",
        "from sklearn import linear_model\n",
        "%matplotlib inline"
      ],
      "execution_count": 1,
      "outputs": []
    },
    {
      "cell_type": "markdown",
      "metadata": {
        "id": "2PJ8dxcKdEEU"
      },
      "source": [
        "Create a CSV from a dataframe and use this CSV to plot the linear regression"
      ]
    },
    {
      "cell_type": "code",
      "metadata": {
        "id": "-Q9TDj3Qa4ti"
      },
      "source": [
        "area_list = [2600, 3000, 3200, 3600, 4000]\n",
        "price_list = [550000, 565000, 610000, 680000, 725000]\n",
        "\n",
        "housing_dict = {'area' : area_list, 'price': price_list}\n",
        "df = pd.DataFrame(data=housing_dict)\n",
        "\n",
        "# Save the dataframe to CSV\n",
        "df.to_csv('houseprices.csv')"
      ],
      "execution_count": 3,
      "outputs": []
    },
    {
      "cell_type": "code",
      "metadata": {
        "colab": {
          "base_uri": "https://localhost:8080/"
        },
        "id": "dJ4KIR9VhJ-G",
        "outputId": "8f10f425-871a-4e42-f973-9622d90c9ac6"
      },
      "source": [
        "df.columns"
      ],
      "execution_count": 4,
      "outputs": [
        {
          "output_type": "execute_result",
          "data": {
            "text/plain": [
              "Index(['area', 'price'], dtype='object')"
            ]
          },
          "metadata": {
            "tags": []
          },
          "execution_count": 4
        }
      ]
    },
    {
      "cell_type": "code",
      "metadata": {
        "colab": {
          "base_uri": "https://localhost:8080/",
          "height": 296
        },
        "id": "GaJ7DTuyeXRz",
        "outputId": "d13601ed-ae7f-45c0-e166-bbec12d1b72d"
      },
      "source": [
        "plt.xlabel('Area in sq. ft.')\n",
        "plt.ylabel('Price in US$')\n",
        "plt.scatter(area_list, price_list, color='red', marker='+')"
      ],
      "execution_count": 5,
      "outputs": [
        {
          "output_type": "execute_result",
          "data": {
            "text/plain": [
              "<matplotlib.collections.PathCollection at 0x7f3dbf32e750>"
            ]
          },
          "metadata": {
            "tags": []
          },
          "execution_count": 5
        },
        {
          "output_type": "display_data",
          "data": {
            "image/png": "[encoded data removed]",
            "text/plain": [
              "<Figure size 432x288 with 1 Axes>"
            ]
          },
          "metadata": {
            "tags": [],
            "needs_background": "light"
          }
        }
      ]
    },
    {
      "cell_type": "code",
      "metadata": {
        "colab": {
          "base_uri": "https://localhost:8080/"
        },
        "id": "j0NecfN7fXD8",
        "outputId": "7bf85f50-27e2-49fc-bfe8-b429dfabbac4"
      },
      "source": [
        "# Create a linear regression object\n",
        "reg = linear_model.LinearRegression()\n",
        "reg.fit(df[['area']], df.price)"
      ],
      "execution_count": 6,
      "outputs": [
        {
          "output_type": "execute_result",
          "data": {
            "text/plain": [
              "LinearRegression(copy_X=True, fit_intercept=True, n_jobs=None, normalize=False)"
            ]
          },
          "metadata": {
            "tags": []
          },
          "execution_count": 6
        }
      ]
    },
    {
      "cell_type": "code",
      "metadata": {
        "colab": {
          "base_uri": "https://localhost:8080/"
        },
        "id": "s3QAKc1bhDH_",
        "outputId": "cd434018-7167-4986-e75c-a11e33ff86ff"
      },
      "source": [
        "reg.predict([[3300]])"
      ],
      "execution_count": 7,
      "outputs": [
        {
          "output_type": "execute_result",
          "data": {
            "text/plain": [
              "array([628715.75342466])"
            ]
          },
          "metadata": {
            "tags": []
          },
          "execution_count": 7
        }
      ]
    },
    {
      "cell_type": "code",
      "metadata": {
        "colab": {
          "base_uri": "https://localhost:8080/"
        },
        "id": "ZB9wfkU1hn2l",
        "outputId": "e678f467-6942-49b1-9d79-81bdad8bfad5"
      },
      "source": [
        "reg.coef_"
      ],
      "execution_count": 8,
      "outputs": [
        {
          "output_type": "execute_result",
          "data": {
            "text/plain": [
              "array([135.78767123])"
            ]
          },
          "metadata": {
            "tags": []
          },
          "execution_count": 8
        }
      ]
    },
    {
      "cell_type": "code",
      "metadata": {
        "colab": {
          "base_uri": "https://localhost:8080/"
        },
        "id": "1xByIP3Ui3d0",
        "outputId": "c1ee1444-ecf9-4821-a241-48bcc237dffd"
      },
      "source": [
        "reg.intercept_"
      ],
      "execution_count": 9,
      "outputs": [
        {
          "output_type": "execute_result",
          "data": {
            "text/plain": [
              "180616.43835616432"
            ]
          },
          "metadata": {
            "tags": []
          },
          "execution_count": 9
        }
      ]
    },
    {
      "cell_type": "code",
      "metadata": {
        "colab": {
          "base_uri": "https://localhost:8080/"
        },
        "id": "Ma2LjpRzi7RM",
        "outputId": "8e97e62b-106e-4150-ce5c-61f3aacf568a"
      },
      "source": [
        "#Simulating y = mx + b for the above values\n",
        "135.78767123 * 3300 + 180616.43835616432 #Output of this value is similar to reg.predict method\n"
      ],
      "execution_count": 10,
      "outputs": [
        {
          "output_type": "execute_result",
          "data": {
            "text/plain": [
              "628715.7534151643"
            ]
          },
          "metadata": {
            "tags": []
          },
          "execution_count": 10
        }
      ]
    },
    {
      "cell_type": "markdown",
      "metadata": {
        "id": "rxjr5skPUiH9"
      },
      "source": [
        "Plot the linear regression"
      ]
    },
    {
      "cell_type": "code",
      "metadata": {
        "colab": {
          "base_uri": "https://localhost:8080/",
          "height": 296
        },
        "id": "XQ-B6gZwSMBJ",
        "outputId": "85dca758-a24c-41b6-dc07-cbea595831a5"
      },
      "source": [
        "plt.xlabel('Area in sq. ft.')\n",
        "plt.ylabel('Price in US$')\n",
        "plt.scatter(area_list, price_list, color='red', marker='+')\n",
        "plt.plot(df.area, reg.predict(df[['area']]), color='green' )"
      ],
      "execution_count": 25,
      "outputs": [
        {
          "output_type": "execute_result",
          "data": {
            "text/plain": [
              "[<matplotlib.lines.Line2D at 0x7f3dba8220d0>]"
            ]
          },
          "metadata": {
            "tags": []
          },
          "execution_count": 25
        },
        {
          "output_type": "display_data",
          "data": {
            "image/png": "[encoded data removed]",
            "text/plain": [
              "<Figure size 432x288 with 1 Axes>"
            ]
          },
          "metadata": {
            "tags": [],
            "needs_background": "light"
          }
        }
      ]
    },
    {
      "cell_type": "markdown",
      "metadata": {
        "id": "AiTFUldOUnal"
      },
      "source": [
        "Create a CSV with a list a areas for which price can be predicted"
      ]
    },
    {
      "cell_type": "code",
      "metadata": {
        "id": "5bUD6dZQkDQH"
      },
      "source": [
        "areas_list = [1000, 1500, 2300, 3540, 4120, 4560, 5490, 3460, 4750, 2300, 9000, 8600, 7100]\n",
        "\n",
        "areas_dict = {'areas': areas_list}\n",
        "df_areas = pd.DataFrame(data=areas_dict)\n",
        "df_areas.to_csv('areas.csv', index=False)\n"
      ],
      "execution_count": 27,
      "outputs": []
    },
    {
      "cell_type": "code",
      "metadata": {
        "colab": {
          "base_uri": "https://localhost:8080/",
          "height": 204
        },
        "id": "8Pu-3WkMJ0tE",
        "outputId": "f3a72aec-a730-47d9-e6b6-ee0b47f56101"
      },
      "source": [
        "df_areas = pd.read_csv('areas.csv')\n",
        "df_areas.head()"
      ],
      "execution_count": 28,
      "outputs": [
        {
          "output_type": "execute_result",
          "data": {
            "text/html": [
              "<div>\n",
              "<style scoped>\n",
              "    .dataframe tbody tr th:only-of-type {\n",
              "        vertical-align: middle;\n",
              "    }\n",
              "\n",
              "    .dataframe tbody tr th {\n",
              "        vertical-align: top;\n",
              "    }\n",
              "\n",
              "    .dataframe thead th {\n",
              "        text-align: right;\n",
              "    }\n",
              "</style>\n",
              "<table border=\"1\" class=\"dataframe\">\n",
              "  <thead>\n",
              "    <tr style=\"text-align: right;\">\n",
              "      <th></th>\n",
              "      <th>areas</th>\n",
              "    </tr>\n",
              "  </thead>\n",
              "  <tbody>\n",
              "    <tr>\n",
              "      <th>0</th>\n",
              "      <td>1000</td>\n",
              "    </tr>\n",
              "    <tr>\n",
              "      <th>1</th>\n",
              "      <td>1500</td>\n",
              "    </tr>\n",
              "    <tr>\n",
              "      <th>2</th>\n",
              "      <td>2300</td>\n",
              "    </tr>\n",
              "    <tr>\n",
              "      <th>3</th>\n",
              "      <td>3540</td>\n",
              "    </tr>\n",
              "    <tr>\n",
              "      <th>4</th>\n",
              "      <td>4120</td>\n",
              "    </tr>\n",
              "  </tbody>\n",
              "</table>\n",
              "</div>"
            ],
            "text/plain": [
              "   areas\n",
              "0   1000\n",
              "1   1500\n",
              "2   2300\n",
              "3   3540\n",
              "4   4120"
            ]
          },
          "metadata": {
            "tags": []
          },
          "execution_count": 28
        }
      ]
    },
    {
      "cell_type": "markdown",
      "metadata": {
        "id": "VAoo4sWaUzAd"
      },
      "source": [
        "Predict the prices and create a new CSV file with areas and predicted values"
      ]
    },
    {
      "cell_type": "code",
      "metadata": {
        "id": "ATHR8h73Lte_"
      },
      "source": [
        "p = reg.predict(df_areas)\n",
        "df_areas['prices'] = p"
      ],
      "execution_count": 29,
      "outputs": []
    },
    {
      "cell_type": "code",
      "metadata": {
        "id": "Xvpp2fqnLyK5"
      },
      "source": [
        "df_areas.to_csv('prediction.csv', index=False)"
      ],
      "execution_count": 21,
      "outputs": []
    }
  ]
}